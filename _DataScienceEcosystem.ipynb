{
 "cells": [
  {
   "cell_type": "markdown",
   "id": "41d4eab3",
   "metadata": {},
   "source": [
    "# Data Science Tools and Ecosystem"
   ]
  },
  {
   "cell_type": "markdown",
   "id": "505250ba",
   "metadata": {},
   "source": [
    "Introduction:"
   ]
  },
  {
   "cell_type": "markdown",
   "id": "3a792567",
   "metadata": {},
   "source": [
    "In this notebook, Data Science Tools and Ecosystem are summarized."
   ]
  },
  {
   "cell_type": "markdown",
   "id": "f9ff7d9c",
   "metadata": {},
   "source": [
    "Data science languages:\n",
    "Some of the popular languages that Data Scientists use are:\n",
    "1. R\n",
    "2. julia\n",
    "3. Scala"
   ]
  },
  {
   "cell_type": "markdown",
   "id": "c1c545db",
   "metadata": {},
   "source": [
    "Data science Libraries:\n",
    "Some of the commonly used libraries used by Data Scientists include:\n",
    "1. NumPy\n",
    "2. Keras\n",
    "3. Pandas"
   ]
  },
  {
   "cell_type": "markdown",
   "id": "5ed70233",
   "metadata": {},
   "source": [
    "Data Science tools:\n",
    "| Data Science tools |\n",
    "|--------------------|\n",
    "| Data Visualization |\n",
    "| Development Environments |\n",
    "| Model Deployment |"
   ]
  },
  {
   "cell_type": "markdown",
   "id": "5613da61",
   "metadata": {},
   "source": [
    "# Below are a few examples of evaluating arithmetic expressions in Python"
   ]
  },
  {
   "cell_type": "code",
   "execution_count": 4,
   "id": "91875331",
   "metadata": {},
   "outputs": [
    {
     "name": "stdout",
     "output_type": "stream",
     "text": [
      "17\n"
     ]
    }
   ],
   "source": [
    "#This a simple arithmetic expression to mutiply then add integers.\n",
    "result=(3*4)+5\n",
    "print( result)"
   ]
  },
  {
   "cell_type": "code",
   "execution_count": 5,
   "id": "967d8e5b",
   "metadata": {},
   "outputs": [
    {
     "name": "stdout",
     "output_type": "stream",
     "text": [
      "3.3333333333333335\n"
     ]
    }
   ],
   "source": [
    "#This will convert 200 minutes to hours by diving by 60\n",
    "Minutes=200\n",
    "hours=Minutes/60\n",
    "print(hours)"
   ]
  },
  {
   "cell_type": "markdown",
   "id": "25ad0fd3",
   "metadata": {},
   "source": [
    "**Objectives**\n",
    "* Data science Libraries\n",
    "* Data science tools\n",
    "* Data science Languages"
   ]
  },
  {
   "cell_type": "markdown",
   "id": "6e078b70",
   "metadata": {},
   "source": [
    "#  Author\n",
    "Muhammad Aarish Ayaz"
   ]
  },
  {
   "cell_type": "code",
   "execution_count": null,
   "id": "8e354472",
   "metadata": {},
   "outputs": [],
   "source": []
  }
 ],
 "metadata": {
  "kernelspec": {
   "display_name": "Python 3 (ipykernel)",
   "language": "python",
   "name": "python3"
  },
  "language_info": {
   "codemirror_mode": {
    "name": "ipython",
    "version": 3
   },
   "file_extension": ".py",
   "mimetype": "text/x-python",
   "name": "python",
   "nbconvert_exporter": "python",
   "pygments_lexer": "ipython3",
   "version": "3.11.4"
  }
 },
 "nbformat": 4,
 "nbformat_minor": 5
}
